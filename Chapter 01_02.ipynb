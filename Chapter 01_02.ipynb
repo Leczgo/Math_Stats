{
 "cells": [
  {
   "cell_type": "markdown",
   "id": "645dc379",
   "metadata": {},
   "source": [
    "## Chapter One"
   ]
  },
  {
   "cell_type": "code",
   "execution_count": 1,
   "id": "ff9eaf99",
   "metadata": {},
   "outputs": [
    {
     "data": {
      "text/html": [
       "2.33333333333333"
      ],
      "text/latex": [
       "2.33333333333333"
      ],
      "text/markdown": [
       "2.33333333333333"
      ],
      "text/plain": [
       "[1] 2.333333"
      ]
     },
     "metadata": {},
     "output_type": "display_data"
    },
    {
     "data": {
      "text/html": [
       "1.211060141639"
      ],
      "text/latex": [
       "1.211060141639"
      ],
      "text/markdown": [
       "1.211060141639"
      ],
      "text/plain": [
       "[1] 1.21106"
      ]
     },
     "metadata": {},
     "output_type": "display_data"
    }
   ],
   "source": [
    "# computing standard deviation\n",
    "nums <- c(1,4,2,1,3,3)\n",
    "print( mean(nums) )\n",
    "print( sd(nums) )"
   ]
  },
  {
   "cell_type": "code",
   "execution_count": 6,
   "id": "d695c75f",
   "metadata": {},
   "outputs": [
    {
     "name": "stdout",
     "output_type": "stream",
     "text": [
      "[1] 88\n",
      "[1] 608\n",
      "[1] 152\n"
     ]
    }
   ],
   "source": [
    "# range & standard deviation\n",
    "nums <- c(16,224,16,80,96,536,400,80,\n",
    "         392,576,128,56,616,224,40,32,\n",
    "         408,384,256,246,328,464,448,616,\n",
    "         304,16,72,8,80,72,56,608,\n",
    "         208,194,136,224,80,16,424,264,\n",
    "         256,216,168,184,552,72,184,240,\n",
    "         488,120,308,32,272,152,328,480,\n",
    "         60,208,440,104,72,168,40,152,\n",
    "         360,232,40,112,112,288,168,352,\n",
    "         56,72,64,40,184,264,96,224,\n",
    "         168,168,114,280,152,208,160,176)\n",
    "print( length(nums) )\n",
    "print( max(nums) - min(nums) )\n",
    "print( (max(nums) - min(nums)) / 4 )"
   ]
  },
  {
   "cell_type": "code",
   "execution_count": 37,
   "id": "48cc07bb",
   "metadata": {},
   "outputs": [
    {
     "name": "stdout",
     "output_type": "stream",
     "text": [
      "\n",
      "Mean: 213.75 \n",
      "Standard Deviation: 160.066 \n",
      "Range Approximation: 152 \n",
      "\n",
      " 1 Standard Deviations\t\t\t\t 1 Range Approximations\n",
      "Number 61 \tProportion: 0.6931818 \t\tNumber: 57 \tProportion: 0.6477273\n",
      " 2 Standard Deviations\t\t\t\t 2 Range Approximations\n",
      "Number 82 \tProportion: 0.9318182 \t\tNumber: 82 \tProportion: 0.9318182\n",
      " 3 Standard Deviations\t\t\t\t 3 Range Approximations\n",
      "Number 88 \tProportion: 1 \t\tNumber: 88 \tProportion: 1"
     ]
    },
    {
     "data": {
      "image/png": "[encoded data removed]",
      "text/plain": [
       "Plot with title \"Histogram of nums\""
      ]
     },
     "metadata": {
      "image/png": {
       "height": 420,
       "width": 420
      }
     },
     "output_type": "display_data"
    }
   ],
   "source": [
    "# calculate mean & sd\n",
    "hist(nums)\n",
    "rng <- max(nums) - min(nums)\n",
    "xbar <- mean(nums)\n",
    "std <- sd(nums)\n",
    "cat(\"\\nMean:\",xbar,\n",
    "    \"\\nStandard Deviation:\",std,\n",
    "    \"\\nRange Approximation:\",rng / 4,\"\\n\")\n",
    "adj <- c(1,2,3)\n",
    "# show number and proportion of values falling within standard deviations\n",
    "for (k in adj) {\n",
    "    number <- length(nums[xbar - k * std < nums & nums < xbar + k * std])\n",
    "    prop <- number / length(nums)\n",
    "    rnumber <- length(nums[xbar - k * (rng / 4) < nums & nums < xbar + k * (rng / 4)])\n",
    "    rprop <- rnumber / length(nums)\n",
    "    cat(\"\\n\",k,\"Standard Deviations\\t\\t\\t\\t\",k,\"Range Approximations\\nNumber\",\n",
    "        number,\"\\tProportion:\",prop,\"\\t\\tNumber:\",rnumber,\"\\tProportion:\",rprop)\n",
    "}"
   ]
  },
  {
   "cell_type": "code",
   "execution_count": 41,
   "id": "074338be",
   "metadata": {},
   "outputs": [
    {
     "name": "stdout",
     "output_type": "stream",
     "text": [
      "[1] \"Mean: 6.8\"\n",
      "[1] \"Standard Deviation: 2.11119465164699\"\n",
      "[1] \"Range Approximation: 2\"\n",
      "\n",
      " 1 Standard Deviations \t\t\t\t 1 Range Approximations \n",
      "Number: 11 \tProportion: 0.7333333 \t\tNumber: 11 \tProportion: 0.7333333\n",
      " 2 Standard Deviations \t\t\t\t 2 Range Approximations \n",
      "Number: 15 \tProportion: 1 \t\tNumber: 14 \tProportion: 0.9333333\n",
      " 3 Standard Deviations \t\t\t\t 3 Range Approximations \n",
      "Number: 15 \tProportion: 1 \t\tNumber: 15 \tProportion: 1"
     ]
    },
    {
     "data": {
      "image/png": "[encoded data removed]",
      "text/plain": [
       "Plot with title \"Histogram of nums2\""
      ]
     },
     "metadata": {
      "image/png": {
       "height": 420,
       "width": 420
      }
     },
     "output_type": "display_data"
    }
   ],
   "source": [
    "# range estimates standard deviation\n",
    "nums2 <- c(8,10,4,3,8,\n",
    "          5,6,8,7,6,\n",
    "          7,7,5,11,7)\n",
    "rng <- max(nums2) - min(nums2)\n",
    "sd.hat <- rng / 4\n",
    "std <- sd(nums2)\n",
    "hist(nums2)\n",
    "print(paste(\"Mean:\",mean(nums2)))\n",
    "print(paste(\"Standard Deviation:\",std))\n",
    "print(paste(\"Range Approximation:\",sd.hat))\n",
    "# show number and proportion of values within each standard deviation\n",
    "for (k in c(1:3)) {\n",
    "    sd.number <- length(nums2[mean(nums2) - k * std < nums2 & nums2 < mean(nums2) + k * std])\n",
    "    sd.prop <- sd.number / length(nums2)\n",
    "    rng.number <- length(nums2[mean(nums2) - k * sd.hat < nums2 & nums2 < mean(nums2) + k * sd.hat])\n",
    "    rng.prop <- rng.number / length(nums2)\n",
    "    cat(\"\\n\",k,\"Standard Deviations\",\"\\t\\t\\t\\t\",k,\"Range Approximations\",\n",
    "       \"\\nNumber:\",sd.number,\"\\tProportion:\",sd.prop,\"\\t\\tNumber:\",rng.number,\"\\tProportion:\",rng.prop)\n",
    "}"
   ]
  },
  {
   "cell_type": "markdown",
   "id": "f5d161eb",
   "metadata": {},
   "source": [
    "## Chapter Two"
   ]
  },
  {
   "cell_type": "code",
   "execution_count": 4,
   "id": "e800418a",
   "metadata": {},
   "outputs": [
    {
     "data": {
      "text/html": [
       "5040"
      ],
      "text/latex": [
       "5040"
      ],
      "text/markdown": [
       "5040"
      ],
      "text/plain": [
       "[1] 5040"
      ]
     },
     "metadata": {},
     "output_type": "display_data"
    },
    {
     "data": {
      "text/html": [
       "24"
      ],
      "text/latex": [
       "24"
      ],
      "text/markdown": [
       "24"
      ],
      "text/plain": [
       "[1] 24"
      ]
     },
     "metadata": {},
     "output_type": "display_data"
    }
   ],
   "source": [
    "# Example 2.5: permutations\n",
    "perm <- function(n,r) {\n",
    "    num <- factorial(n) / factorial(n - r)\n",
    "    return( num )\n",
    "}\n",
    "perm(n = 10,r = 4)\n",
    "# Example 2.6: permutations\n",
    "perm(n = 4,r = 4)"
   ]
  },
  {
   "cell_type": "code",
   "execution_count": 5,
   "id": "f476865f",
   "metadata": {},
   "outputs": [
    {
     "name": "stdout",
     "output_type": "stream",
     "text": [
      "[1] 48886437600\n"
     ]
    }
   ],
   "source": [
    "# Example 2.7: partitioned permutations\n",
    "n <- 20\n",
    "n1 <- 6\n",
    "n2 <- 4\n",
    "n3 <- 5\n",
    "n4 <- 4\n",
    "N <- factorial(n)/( factorial(n1) * factorial(n2) * factorial(n3) * factorial(n4) )\n",
    "print(N)"
   ]
  },
  {
   "cell_type": "code",
   "execution_count": 8,
   "id": "708f10a9",
   "metadata": {},
   "outputs": [
    {
     "name": "stdout",
     "output_type": "stream",
     "text": [
      "[1] 10\n",
      "[1] 6\n"
     ]
    }
   ],
   "source": [
    "# Example 2.8: combinations\n",
    "S <- choose(n = 5,k = 2)\n",
    "print( S )\n",
    "# Example 2.9\n",
    "na <- choose(n = 2,k = 1)\n",
    "nb <- choose(n = 3,k = 1)\n",
    "print(na * nb)"
   ]
  },
  {
   "cell_type": "markdown",
   "id": "ca203840",
   "metadata": {},
   "source": [
    "### Exercises"
   ]
  },
  {
   "cell_type": "code",
   "execution_count": 3,
   "id": "8fa60a7c",
   "metadata": {},
   "outputs": [
    {
     "data": {
      "text/html": [
       "120"
      ],
      "text/latex": [
       "120"
      ],
      "text/markdown": [
       "120"
      ],
      "text/plain": [
       "[1] 120"
      ]
     },
     "metadata": {},
     "output_type": "display_data"
    }
   ],
   "source": [
    "# 2.10\n",
    "choose(10,3)"
   ]
  },
  {
   "cell_type": "code",
   "execution_count": 5,
   "id": "71bb6065",
   "metadata": {},
   "outputs": [
    {
     "name": "stdout",
     "output_type": "stream",
     "text": [
      "[1] 40\n",
      "[1] 320\n"
     ]
    }
   ],
   "source": [
    "# 2.11\n",
    "# part a\n",
    "pt.a <- 5 * 4 * 2\n",
    "print( pt.a )\n",
    "# part b\n",
    "pt.b <- pt.a * 8\n",
    "print( pt.b )"
   ]
  },
  {
   "cell_type": "code",
   "execution_count": 6,
   "id": "422f3fe0",
   "metadata": {},
   "outputs": [
    {
     "name": "stdout",
     "output_type": "stream",
     "text": [
      "[1] 9e+06\n"
     ]
    }
   ],
   "source": [
    "# 2.12\n",
    "digits <- 10^6 * 9\n",
    "print( digits )"
   ]
  },
  {
   "cell_type": "code",
   "execution_count": 7,
   "id": "c8c30f42",
   "metadata": {},
   "outputs": [
    {
     "data": {
      "text/html": [
       "6"
      ],
      "text/latex": [
       "6"
      ],
      "text/markdown": [
       "6"
      ],
      "text/plain": [
       "[1] 6"
      ]
     },
     "metadata": {},
     "output_type": "display_data"
    }
   ],
   "source": [
    "# 2.13\n",
    "factorial(3)"
   ]
  },
  {
   "cell_type": "code",
   "execution_count": 9,
   "id": "9c1c1134",
   "metadata": {},
   "outputs": [
    {
     "data": {
      "text/html": [
       "720"
      ],
      "text/latex": [
       "720"
      ],
      "text/markdown": [
       "720"
      ],
      "text/plain": [
       "[1] 720"
      ]
     },
     "metadata": {},
     "output_type": "display_data"
    }
   ],
   "source": [
    "# 2.14\n",
    "factorial(10) / factorial(7)"
   ]
  },
  {
   "cell_type": "code",
   "execution_count": 10,
   "id": "33c1e311",
   "metadata": {},
   "outputs": [
    {
     "name": "stdout",
     "output_type": "stream",
     "text": [
      "[1] 18\n"
     ]
    }
   ],
   "source": [
    "# 2.15\n",
    "experiments <- 3 * 3 * 2\n",
    "print( experiments )"
   ]
  },
  {
   "cell_type": "code",
   "execution_count": 11,
   "id": "13a2254c",
   "metadata": {},
   "outputs": [
    {
     "name": "stdout",
     "output_type": "stream",
     "text": [
      "[1] 6.402374e+15\n"
     ]
    }
   ],
   "source": [
    "# 2.16\n",
    "tests <- factorial(18)\n",
    "print( tests )"
   ]
  },
  {
   "cell_type": "code",
   "execution_count": 12,
   "id": "5946c5ad",
   "metadata": {},
   "outputs": [
    {
     "name": "stdout",
     "output_type": "stream",
     "text": [
      "[1] 16\n"
     ]
    }
   ],
   "source": [
    "# 2.17\n",
    "N <- 2 ^ 4\n",
    "print( N )"
   ]
  },
  {
   "cell_type": "code",
   "execution_count": 13,
   "id": "3a44a0bc",
   "metadata": {},
   "outputs": [
    {
     "name": "stdout",
     "output_type": "stream",
     "text": [
      "1326 16 0.01206637"
     ]
    }
   ],
   "source": [
    "# 2.19\n",
    "N <- choose(52,2)\n",
    "n.a <- choose(4,1) + choose(12,1)\n",
    "p.a <- n.a/N\n",
    "cat(N,n.a,p.a)"
   ]
  },
  {
   "cell_type": "code",
   "execution_count": 18,
   "id": "c49a256e",
   "metadata": {},
   "outputs": [
    {
     "name": "stdout",
     "output_type": "stream",
     "text": [
      "[1] 0.001980792\n"
     ]
    }
   ],
   "source": [
    "# 2.20\n",
    "N <- choose(52,5)\n",
    "n.a <- choose(13,5) * choose(39,0)\n",
    "p.E <- 4 * n.a / N\n",
    "print( p.E )"
   ]
  },
  {
   "cell_type": "code",
   "execution_count": 25,
   "id": "0fb7cb1e",
   "metadata": {},
   "outputs": [
    {
     "name": "stdout",
     "output_type": "stream",
     "text": [
      "[1] 9777287520\n",
      "[1] 30270240\n",
      "[1] 323\n",
      "[1] 0.003095975\n"
     ]
    }
   ],
   "source": [
    "# 2.21\n",
    "N <- factorial(20) / (factorial(6) * factorial(4) * factorial(5) * factorial(5))\n",
    "n.minor <- choose(4,4)\n",
    "n.non <- factorial(16) / (factorial(2) * factorial(4) * factorial(5) * factorial(5))\n",
    "n.a <- n.minor * n.non\n",
    "p.a <- n.a / N\n",
    "print( N )\n",
    "print( n.a )\n",
    "print( N / n.a )\n",
    "print( p.a )"
   ]
  },
  {
   "cell_type": "code",
   "execution_count": 26,
   "id": "ef32a57c",
   "metadata": {},
   "outputs": [
    {
     "name": "stdout",
     "output_type": "stream",
     "text": [
      "[1] 0.729\n",
      "[1] 0.999\n",
      "[1] 0.972\n"
     ]
    }
   ],
   "source": [
    "# 2.22\n",
    "\n",
    "three <- choose(3,3) * 0.9 ^ 3\n",
    "two <- choose(3,2) * 0.9 ^ 2 * 0.1\n",
    "one <- choose(3,1) * 0.9 * 0.1 ^ 2\n",
    "zero <- choose(3,0) * 0.1 ^ 3\n",
    "# part a\n",
    "print( three )\n",
    "# part b\n",
    "print( 1 - zero )\n",
    "# part c\n",
    "print( two + three )"
   ]
  },
  {
   "cell_type": "code",
   "execution_count": 27,
   "id": "e37e04f2",
   "metadata": {},
   "outputs": [
    {
     "data": {
      "text/html": [
       "0.0648"
      ],
      "text/latex": [
       "0.0648"
      ],
      "text/markdown": [
       "0.0648"
      ],
      "text/plain": [
       "[1] 0.0648"
      ]
     },
     "metadata": {},
     "output_type": "display_data"
    }
   ],
   "source": [
    "0.6 * 0.6 * 0.9 * 0.2"
   ]
  },
  {
   "cell_type": "code",
   "execution_count": null,
   "id": "dbc24525",
   "metadata": {},
   "outputs": [],
   "source": []
  }
 ],
 "metadata": {
  "kernelspec": {
   "display_name": "R",
   "language": "R",
   "name": "ir"
  },
  "language_info": {
   "codemirror_mode": "r",
   "file_extension": ".r",
   "mimetype": "text/x-r-source",
   "name": "R",
   "pygments_lexer": "r",
   "version": "4.1.3"
  }
 },
 "nbformat": 4,
 "nbformat_minor": 5
}
